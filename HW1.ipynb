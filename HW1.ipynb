{
 "cells": [
  {
   "cell_type": "markdown",
   "metadata": {},
   "source": [
    "# Nuggets Problem"
   ]
  },
  {
   "cell_type": "code",
   "execution_count": 1,
   "metadata": {},
   "outputs": [
    {
     "name": "stdout",
     "output_type": "stream",
     "text": [
      "The largest size that you cannot get is: 43\n"
     ]
    }
   ],
   "source": [
    "def is_nugget_number(candidate, SIX = 6, NINE = 9, TWENTY = 20):\n",
    "    for i in range(candidate//SIX + 1):\n",
    "        for j in range(candidate//NINE + 1):\n",
    "            for k in range(candidate//TWENTY + 1):\n",
    "                if(candidate == i * SIX + j * NINE + k * 20):\n",
    "                    return True\n",
    "    \n",
    "    return False\n",
    "\n",
    "## main \n",
    "sizes = {'S': 6, 'M': 9, 'L': 20}\n",
    "SIX = 6\n",
    "count = 0\n",
    "largest = 0\n",
    "candidate = SIX\n",
    "\n",
    "while count < SIX:\n",
    "    if(is_nugget_number(candidate)):\n",
    "        count += 1\n",
    "    else:\n",
    "        largest = candidate\n",
    "        count = 0\n",
    "    candidate += 1\n",
    "        \n",
    "print(\"The largest size that you cannot get is: {0}\".format(largest))"
   ]
  },
  {
   "cell_type": "markdown",
   "metadata": {},
   "source": [
    "# Guess My Number"
   ]
  },
  {
   "cell_type": "code",
   "execution_count": 4,
   "metadata": {},
   "outputs": [
    {
     "name": "stdout",
     "output_type": "stream",
     "text": [
      "The computer guesses... 50\n",
      "The computer guesses... 25\n",
      "The computer guesses... 38\n",
      "The computer guesses... 32\n",
      "The computer guesses... 35\n",
      "The computer guesses... 34\n",
      "The computer guessed it in  7 attempt(s) and 33  was correct!\n"
     ]
    }
   ],
   "source": [
    "\n",
    "def guess_game(num):\n",
    "    low = 1\n",
    "    high = 100\n",
    "    \n",
    "    guess = 50\n",
    "    attempts = 1\n",
    "    while guess != num:\n",
    "        print(\"The computer guesses...\", guess)\n",
    "        if guess > num:\n",
    "            high = guess\n",
    "        elif guess < num:\n",
    "            low = guess + 1\n",
    "        guess = (low+high)//2    \n",
    "        attempts += 1\n",
    "\n",
    "    print(\"The computer guessed it in \", attempts,\"attempt(s) and\", guess, \" was correct!\")\n",
    "\n",
    "\n",
    "def main():\n",
    "    num = int(input(\"Enter a number: \"))\n",
    "    if num < 1 or num > 100:\n",
    "        print(\"Must be in range of 1 - 100\")\n",
    "    else:\n",
    "        guess_game(num)\n",
    "\n",
    "if __name__ == '__main__':\n",
    "    main()"
   ]
  },
  {
   "cell_type": "code",
   "execution_count": null,
   "metadata": {},
   "outputs": [],
   "source": []
  }
 ],
 "metadata": {
  "kernelspec": {
   "display_name": "Python 3",
   "language": "python",
   "name": "python3"
  },
  "language_info": {
   "codemirror_mode": {
    "name": "ipython",
    "version": 3
   },
   "file_extension": ".py",
   "mimetype": "text/x-python",
   "name": "python",
   "nbconvert_exporter": "python",
   "pygments_lexer": "ipython3",
   "version": "3.6.5"
  }
 },
 "nbformat": 4,
 "nbformat_minor": 2
}
