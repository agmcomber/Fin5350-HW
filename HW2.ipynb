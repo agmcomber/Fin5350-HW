{
 "cells": [
  {
   "cell_type": "markdown",
   "metadata": {},
   "source": [
    "#### Austin McOmber\n",
    "#### A01948802\n",
    "#### Fin 5350\n",
    "#### HW 2"
   ]
  },
  {
   "cell_type": "code",
   "execution_count": 44,
   "metadata": {},
   "outputs": [],
   "source": [
    "import numpy as np\n",
    "from scipy.stats import binom\n"
   ]
  },
  {
   "cell_type": "code",
   "execution_count": 45,
   "metadata": {},
   "outputs": [],
   "source": [
    "def callPayoff(spot, strike):\n",
    "    return np.maximum(spot - strike, 0.0)\n"
   ]
  },
  {
   "cell_type": "code",
   "execution_count": 46,
   "metadata": {},
   "outputs": [],
   "source": [
    "def putPayoff(spot, strike):\n",
    "    return np.maximum(strike - spot, 0.0)"
   ]
  },
  {
   "cell_type": "code",
   "execution_count": 47,
   "metadata": {},
   "outputs": [],
   "source": [
    "#European Binomial Option Pricer\n",
    "def euroBinomPricerRecursive(S, K, r, v, q, T, n, payoff, verbose = True):\n",
    "    nodes = n  + 1\n",
    "    h = T / n\n",
    "    u = np.exp((r - q) * h + v * np.sqrt(h))\n",
    "    d = np.exp((r - q) * h - v * np.sqrt(h))\n",
    "    pu = (np.exp((r - q) * h) - d) / (u - d)\n",
    "    pd = 1.0 - pu\n",
    "    disc = np.exp(-r * h)\n",
    "    \n",
    "    Ct = np.empty(nodes)\n",
    "    St = np.empty(nodes)\n",
    "    \n",
    "    for i in range(nodes):\n",
    "        St[i] = S * (u ** (n - i)) * (d ** i)\n",
    "        Ct[i] = payoff(St[i], K)\n",
    "        \n",
    "    for t in range((n - 1), -1, -1):\n",
    "        for j in range(t+1):\n",
    "            Ct[j] = disc * (pu * Ct[j] + pd * Ct[j+1])\n",
    "            \n",
    "    return Ct[0]\n",
    "    \n"
   ]
  },
  {
   "cell_type": "code",
   "execution_count": 48,
   "metadata": {},
   "outputs": [],
   "source": [
    "def eurBinomPricer(S, K, r, q, T, n, u, d, payoff, verbose = True):\n",
    "    nodes = n + 1\n",
    "    h = T/n\n",
    "    pu = (np.exp((r - q) * h) - d) / (u - d)\n",
    "    pd = 1.0 - pu\n",
    "    disc = np.exp(-r * h)\n",
    "    \n",
    "    Ct = np.zeros((nodes, n+1))\n",
    "    St = np.zeros((nodes, n+1))\n",
    "    Dt = np.zeros((nodes, n+1))\n",
    "    Bt = np.zeros((nodes,n+1))\n",
    "    \n",
    "    for i in range(nodes):\n",
    "        St[i, n] = S * (u**(n-i)) * (d**i)\n",
    "        Ct[i, n] = payoff(St[i, n], K)\n",
    "         \n",
    "    for t in range((n-1), -1, -1):\n",
    "        for j in range(t+1):\n",
    "            St[j, t] = St[j, t+1] / u\n",
    "            Ct[j, t] = disc * ((pu * Ct[j, t+1]) + (pd * Ct[j+1, t+1]))\n",
    "            Dt[j, t] = np.exp(-q * h) * (Ct[j, t+1] - Ct[j+1, t+1]) / (St[j, t] * (u - d))\n",
    "            Bt[j, t] = Ct[j,t]-(Dt[j,t]*St[j,t])\n",
    "            \n",
    "    return Dt,Bt,Ct         "
   ]
  },
  {
   "cell_type": "code",
   "execution_count": 87,
   "metadata": {},
   "outputs": [],
   "source": [
    "def americanBinomPricer(S, K, r, v, q, T, n, payoff, verbose = True):\n",
    "    nodes=n+1\n",
    "    h=T/n\n",
    "    u = np.exp((r - q) * h + v * np.sqrt(h))\n",
    "    d = np.exp((r - q) * h - v * np.sqrt(h))\n",
    "    pu = (np.exp((r - q) * h) - d) / (u - d)\n",
    "    pd = 1.0 - pu\n",
    "    disc = np.exp(-r * h)\n",
    "    \n",
    "    Ct = np.zeros((nodes, n+1))\n",
    "    St = np.zeros((nodes, n+1))\n",
    "    \n",
    "    for i in range(nodes):\n",
    "        St[i, n] = S * (u**(n-i)) * (d**i)\n",
    "        Ct[i, n] = payoff(St[i, n], K)\n",
    "        \n",
    "    for t in range((n-1), -1, -1):\n",
    "        for j in range(t):\n",
    "            Ct[j]=disc*(pu*Ct[j]+pd*Ct[j+1])\n",
    "            St[j]=St[j]/u\n",
    "            earlyPay=K-St[j]\n",
    "            Ct[j]=np.maximum(Ct[j],earlyPay)\n",
    "            \n",
    "    return Ct[0]\n",
    "            \n"
   ]
  },
  {
   "cell_type": "markdown",
   "metadata": {},
   "source": [
    "PROBLEM 1"
   ]
  },
  {
   "cell_type": "code",
   "execution_count": 51,
   "metadata": {},
   "outputs": [
    {
     "data": {
      "text/plain": [
       "(array([[0.5, 0. ],\n",
       "        [0. , 0. ]]), array([[-38.43157757,   0.        ],\n",
       "        [  0.        ,   0.        ]]), array([[11.56842243, 25.        ],\n",
       "        [ 0.        ,  0.        ]]))"
      ]
     },
     "execution_count": 51,
     "metadata": {},
     "output_type": "execute_result"
    }
   ],
   "source": [
    "eurBinomPricer(100,105,0.08,0,0.5,1,1.3,0.8,callPayoff,verbose=False)"
   ]
  },
  {
   "cell_type": "markdown",
   "metadata": {},
   "source": [
    "Delta = 0.5; B = -38.42; Premium = 11.57\n"
   ]
  },
  {
   "cell_type": "code",
   "execution_count": 53,
   "metadata": {},
   "outputs": [
    {
     "data": {
      "text/plain": [
       "(array([[-0.5,  0. ],\n",
       "        [ 0. ,  0. ]]), array([[62.45131354,  0.        ],\n",
       "        [ 0.        ,  0.        ]]), array([[12.45131354,  0.        ],\n",
       "        [ 0.        , 25.        ]]))"
      ]
     },
     "execution_count": 53,
     "metadata": {},
     "output_type": "execute_result"
    }
   ],
   "source": [
    "eurBinomPricer(100,105,0.08,0,0.5,1,1.3,0.8,putPayoff, verbose=False)"
   ]
  },
  {
   "cell_type": "markdown",
   "metadata": {},
   "source": [
    "Delta = -0.5; B = 62.45; Premium = 12.45;"
   ]
  },
  {
   "cell_type": "markdown",
   "metadata": {},
   "source": [
    "PROBLEM 2"
   ]
  },
  {
   "cell_type": "code",
   "execution_count": 57,
   "metadata": {},
   "outputs": [
    {
     "data": {
      "text/plain": [
       "(array([[-0.3,  0. ],\n",
       "        [ 0. ,  0. ]]), array([[37.47078813,  0.        ],\n",
       "        [ 0.        ,  0.        ]]), array([[ 7.47078813,  0.        ],\n",
       "        [ 0.        , 15.        ]]))"
      ]
     },
     "execution_count": 57,
     "metadata": {},
     "output_type": "execute_result"
    }
   ],
   "source": [
    "eurBinomPricer(100, 95, 0.08, 0, 0.5, 1,1.3, 0.8, putPayoff, verbose=False)"
   ]
  },
  {
   "cell_type": "markdown",
   "metadata": {},
   "source": [
    "European Put Price = 7.47\n"
   ]
  },
  {
   "cell_type": "code",
   "execution_count": 61,
   "metadata": {},
   "outputs": [
    {
     "data": {
      "text/plain": [
       "(array([[0.7, 0. ],\n",
       "        [0. , 0. ]]), array([[-53.80420859,   0.        ],\n",
       "        [  0.        ,   0.        ]]), array([[16.19579141, 35.        ],\n",
       "        [ 0.        ,  0.        ]]))"
      ]
     },
     "execution_count": 61,
     "metadata": {},
     "output_type": "execute_result"
    }
   ],
   "source": [
    "eurBinomPricer(100, 95, 0.08, 0, 0.5, 1,1.3, 0.8, callPayoff, verbose=False)"
   ]
  },
  {
   "cell_type": "markdown",
   "metadata": {},
   "source": [
    "European Call price = 16.196\n",
    "\n",
    "The option is overvalued at 17 therefore the arbitrage opportunity consists of borrowing $53.804 and buying .7 shares.  Sell the call option, Arbitrage profit is .804"
   ]
  },
  {
   "cell_type": "markdown",
   "metadata": {},
   "source": [
    "The option is undervalued at 15.5 therefore the arbitrage opportunity conisits of buying a call option and lending 53.804 and sell .7 shares.  Arbtrage profit = .696"
   ]
  },
  {
   "cell_type": "markdown",
   "metadata": {},
   "source": [
    "PROBLEM 3\n"
   ]
  },
  {
   "cell_type": "code",
   "execution_count": 65,
   "metadata": {},
   "outputs": [
    {
     "data": {
      "text/plain": [
       "(array([[0.69120742, 1.        , 0.        ],\n",
       "        [0.        , 0.225     , 0.        ],\n",
       "        [0.        , 0.        , 0.        ]]),\n",
       " array([[-49.12704895, -91.27499672,   0.        ],\n",
       "        [  0.        , -13.83536792,   0.        ],\n",
       "        [  0.        ,   0.        ,   0.        ]]),\n",
       " array([[19.99369346, 38.72500328, 74.        ],\n",
       "        [ 0.        ,  4.16463208,  9.        ],\n",
       "        [ 0.        ,  0.        ,  0.        ]]))"
      ]
     },
     "execution_count": 65,
     "metadata": {},
     "output_type": "execute_result"
    }
   ],
   "source": [
    "eurBinomPricer(100, 95, 0.08, 0, 1, 2,1.3, 0.8, callPayoff, verbose=False)"
   ]
  },
  {
   "cell_type": "markdown",
   "metadata": {},
   "source": [
    "Su has Delta = 1.0; B = -91.27; Premium = 38.73\n",
    "\n",
    "Sd has Delta = .225; B = -13.84; Premium = 4.16\n",
    "\n",
    "S0 has Delta = .69; B = -49.13; Premium = 19.99"
   ]
  },
  {
   "cell_type": "markdown",
   "metadata": {},
   "source": [
    "PROBLEM 4"
   ]
  },
  {
   "cell_type": "code",
   "execution_count": 68,
   "metadata": {},
   "outputs": [
    {
     "data": {
      "text/plain": [
       "(array([[0.46505058, 0.77307692, 0.        ],\n",
       "        [0.        , 0.        , 0.        ],\n",
       "        [0.        , 0.        , 0.        ]]),\n",
       " array([[-28.59620401, -61.79797673,   0.        ],\n",
       "        [  0.        ,   0.        ,   0.        ],\n",
       "        [  0.        ,   0.        ,   0.        ]]),\n",
       " array([[ 8.60784253, 18.60202327, 40.2       ],\n",
       "        [ 0.        ,  0.        ,  0.        ],\n",
       "        [ 0.        ,  0.        ,  0.        ]]))"
      ]
     },
     "execution_count": 68,
     "metadata": {},
     "output_type": "execute_result"
    }
   ],
   "source": [
    "eurBinomPricer(80, 95, 0.08, 0, 1, 2,1.3, 0.8, callPayoff, verbose=False)"
   ]
  },
  {
   "cell_type": "code",
   "execution_count": 69,
   "metadata": {},
   "outputs": [
    {
     "data": {
      "text/plain": [
       "(array([[0.58716171, 0.97606838, 0.        ],\n",
       "        [0.        , 0.        , 0.        ],\n",
       "        [0.        , 0.        , 0.        ]]),\n",
       " array([[-40.61799127, -87.77772316,   0.        ],\n",
       "        [  0.        ,   0.        ,   0.        ],\n",
       "        [  0.        ,   0.        ,   0.        ]]),\n",
       " array([[12.22656241, 26.42227684, 57.1       ],\n",
       "        [ 0.        ,  0.        ,  0.        ],\n",
       "        [ 0.        ,  0.        ,  0.        ]]))"
      ]
     },
     "execution_count": 69,
     "metadata": {},
     "output_type": "execute_result"
    }
   ],
   "source": [
    "eurBinomPricer(90, 95, 0.08, 0, 1, 2,1.3, 0.8, callPayoff, verbose=False)"
   ]
  },
  {
   "cell_type": "code",
   "execution_count": 70,
   "metadata": {},
   "outputs": [
    {
     "data": {
      "text/plain": [
       "(array([[0.77723468, 1.        , 0.        ],\n",
       "        [0.        , 0.44090909, 0.        ],\n",
       "        [0.        , 0.        , 0.        ]]),\n",
       " array([[-57.08968202, -91.27499672,   0.        ],\n",
       "        [  0.        , -29.82290419,   0.        ],\n",
       "        [  0.        ,   0.        ,   0.        ]]),\n",
       " array([[28.40613292, 51.72500328, 90.9       ],\n",
       "        [ 0.        ,  8.97709581, 19.4       ],\n",
       "        [ 0.        ,  0.        ,  0.        ]]))"
      ]
     },
     "execution_count": 70,
     "metadata": {},
     "output_type": "execute_result"
    }
   ],
   "source": [
    "eurBinomPricer(110, 95, 0.08, 0, 1, 2,1.3, 0.8, callPayoff, verbose=False)"
   ]
  },
  {
   "cell_type": "code",
   "execution_count": 71,
   "metadata": {},
   "outputs": [
    {
     "data": {
      "text/plain": [
       "(array([[0.84892406, 1.        , 0.        ],\n",
       "        [0.        , 0.62083333, 0.        ],\n",
       "        [0.        , 0.        , 0.        ]]),\n",
       " array([[-65.0523151 , -91.27499672,   0.        ],\n",
       "        [  0.        , -45.81044046,   0.        ],\n",
       "        [  0.        ,   0.        ,   0.        ]]),\n",
       " array([[ 36.81857238,  64.72500328, 107.8       ],\n",
       "        [  0.        ,  13.78955954,  29.8       ],\n",
       "        [  0.        ,   0.        ,   0.        ]]))"
      ]
     },
     "execution_count": 71,
     "metadata": {},
     "output_type": "execute_result"
    }
   ],
   "source": [
    "eurBinomPricer(120, 95, 0.08, 0, 1, 2,1.3, 0.8, callPayoff, verbose=False)"
   ]
  },
  {
   "cell_type": "code",
   "execution_count": 72,
   "metadata": {},
   "outputs": [
    {
     "data": {
      "text/plain": [
       "(array([[0.90958431, 1.        , 0.        ],\n",
       "        [0.        , 0.77307692, 0.        ],\n",
       "        [0.        , 0.        , 0.        ]]),\n",
       " array([[-73.01494817, -91.27499672,   0.        ],\n",
       "        [  0.        , -61.79797673,   0.        ],\n",
       "        [  0.        ,   0.        ,   0.        ]]),\n",
       " array([[ 45.23101184,  77.72500328, 124.7       ],\n",
       "        [  0.        ,  18.60202327,  40.2       ],\n",
       "        [  0.        ,   0.        ,   0.        ]]))"
      ]
     },
     "execution_count": 72,
     "metadata": {},
     "output_type": "execute_result"
    }
   ],
   "source": [
    "eurBinomPricer(130, 95, 0.08, 0, 1, 2,1.3, 0.8, callPayoff, verbose=False)"
   ]
  },
  {
   "cell_type": "markdown",
   "metadata": {},
   "source": [
    "The delta is getting closer and closer to the value of 1.  It rises to one at a quicker rate and begins to slow as the spot price grows greater than the strike price.  While the stock price increases the option is much more likely to be excercised, which means that it will be held to maturity.    "
   ]
  },
  {
   "cell_type": "markdown",
   "metadata": {},
   "source": [
    "PROBLEM 5"
   ]
  },
  {
   "cell_type": "code",
   "execution_count": 75,
   "metadata": {},
   "outputs": [
    {
     "data": {
      "text/plain": [
       "18.28255220737056"
      ]
     },
     "execution_count": 75,
     "metadata": {},
     "output_type": "execute_result"
    }
   ],
   "source": [
    "euroBinomPricerRecursive(100, 95, 0.08, 0.3, 0, 1, 3, callPayoff, verbose=False)"
   ]
  },
  {
   "cell_type": "markdown",
   "metadata": {},
   "source": [
    "The American call option premium is 18.2826.  The american call option premium is the same as the european call option premium are the same because there are no dividends.  "
   ]
  },
  {
   "cell_type": "code",
   "execution_count": 76,
   "metadata": {},
   "outputs": [
    {
     "name": "stdout",
     "output_type": "stream",
     "text": [
      "Premium for the European put is  5.97860511410097\n"
     ]
    }
   ],
   "source": [
    "print(\"Premium for the European put is \",euroBinomPricerRecursive(100, 95, 0.08, 0.3, 0, 1, 3, putPayoff, verbose=False))"
   ]
  },
  {
   "cell_type": "code",
   "execution_count": 78,
   "metadata": {},
   "outputs": [
    {
     "name": "stdout",
     "output_type": "stream",
     "text": [
      "-12.303994999999999\n",
      "-12.037037037037038\n"
     ]
    }
   ],
   "source": [
    "#Put-call parity\n",
    "print(5.978605-18.2826)\n",
    "print((95/((1+0.08)**1))-100)"
   ]
  },
  {
   "cell_type": "markdown",
   "metadata": {},
   "source": [
    "The values differ by about 30 percentage points, therefore Put-call parity appears to hold."
   ]
  },
  {
   "cell_type": "markdown",
   "metadata": {},
   "source": [
    "PROBLEM 6"
   ]
  },
  {
   "cell_type": "code",
   "execution_count": 81,
   "metadata": {},
   "outputs": [
    {
     "name": "stdout",
     "output_type": "stream",
     "text": [
      "u =  1.1454617381452392\n",
      "d =  0.8966038495199921\n"
     ]
    }
   ],
   "source": [
    "print(\"u = \", np.exp((0.08 - 0) * (0.5/3) + 0.3 * np.sqrt(0.5/3)))\n",
    "print(\"d = \", np.exp((0.08 - 0) * (0.5/3) - 0.3 * np.sqrt(0.5/3)))"
   ]
  },
  {
   "cell_type": "code",
   "execution_count": 84,
   "metadata": {},
   "outputs": [
    {
     "name": "stdout",
     "output_type": "stream",
     "text": [
      "Premium for the European call is  4.377429513517246\n"
     ]
    }
   ],
   "source": [
    "print(\"Premium for the European call is \", euroBinomPricerRecursive(40, 40, 0.08, 0.3, 0, 0.5, 3, callPayoff, verbose=False))"
   ]
  },
  {
   "cell_type": "code",
   "execution_count": 85,
   "metadata": {},
   "outputs": [
    {
     "name": "stdout",
     "output_type": "stream",
     "text": [
      "Premium for the European put is  2.8090070796101805\n"
     ]
    }
   ],
   "source": [
    "print(\"Premium for the European put is \", euroBinomPricerRecursive(40, 40, 0.08, 0.3, 0, 0.5, 3, putPayoff, verbose=False))"
   ]
  },
  {
   "cell_type": "code",
   "execution_count": 86,
   "metadata": {},
   "outputs": [
    {
     "name": "stdout",
     "output_type": "stream",
     "text": [
      "Premium for the American put is  [40.         40.         40.          0.86799019]\n"
     ]
    }
   ],
   "source": [
    "print(\"Premium for the American put is \", americanBinomPricer(40, 40, 0.08, 0.3, 0, 0.5, 3, putPayoff, verbose=False))"
   ]
  },
  {
   "cell_type": "markdown",
   "metadata": {},
   "source": [
    "The premium for the American call is 4.3774 because the dividends are zero."
   ]
  },
  {
   "cell_type": "code",
   "execution_count": null,
   "metadata": {},
   "outputs": [],
   "source": []
  }
 ],
 "metadata": {
  "kernelspec": {
   "display_name": "Python 3",
   "language": "python",
   "name": "python3"
  },
  "language_info": {
   "codemirror_mode": {
    "name": "ipython",
    "version": 3
   },
   "file_extension": ".py",
   "mimetype": "text/x-python",
   "name": "python",
   "nbconvert_exporter": "python",
   "pygments_lexer": "ipython3",
   "version": "3.6.5"
  }
 },
 "nbformat": 4,
 "nbformat_minor": 2
}
