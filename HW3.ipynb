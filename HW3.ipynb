{
 "cells": [
  {
   "cell_type": "code",
   "execution_count": 34,
   "metadata": {},
   "outputs": [],
   "source": [
    "import numpy as np\n",
    "from scipy.stats import norm\n",
    "%matplotlib inline\n",
    "import matplotlib.pyplot as plt"
   ]
  },
  {
   "cell_type": "code",
   "execution_count": 12,
   "metadata": {},
   "outputs": [],
   "source": [
    "# given data\n",
    "strike = 40.0\n",
    "vol = .3\n",
    "rate = .08\n",
    "tau = 1\n",
    "div = 0.0"
   ]
  },
  {
   "cell_type": "code",
   "execution_count": 13,
   "metadata": {},
   "outputs": [],
   "source": [
    "#Pricer\n",
    "def blackScholesCall(spot, strike, vol, rate, tau, div):\n",
    "    d1 = (np.log(spot / strike) + (rate - div + 0.5 * vol * vol) * tau) / (vol * np.sqrt(tau))\n",
    "    d2 = d1 - (vol * np.sqrt(tau))\n",
    "    callPrc = (spot * np.exp(-div * tau) * norm.cdf(d1)) - (strike * np.exp(-rate * tau) * norm.cdf(d2))\n",
    "    \n",
    "    return callPrc\n",
    "    "
   ]
  },
  {
   "cell_type": "code",
   "execution_count": 39,
   "metadata": {},
   "outputs": [],
   "source": [
    "## Delta\n",
    "def bsmCallDelta(spot, strike, vol, rate, tau, div):\n",
    "    d1 = (np.log(spot / strike) + (rate - div + 0.5 * vol * vol) * tau) / (vol * np.sqrt(tau))\n",
    "    d2 = d1-(vol*np.sqrt(tau))\n",
    "    cDelta = np.exp(-div * tau) * norm.cdf(d1)\n",
    "    \n",
    "    return cDelta\n",
    "\n",
    "def bsmPutDelta(spot, strike, vol, rate, tau, div):\n",
    "    d1 = (np.log(spot / strike) + (rate - div + 0.5 * vol * vol) * tau) / (vol * np.sqrt(tau))\n",
    "    d2 = d1-(vol*np.sqrt(tau))\n",
    "    pDelta = np.exp(-div*tau)*norm.cdf(-d1)\n",
    "\n",
    "    return pDelta\n"
   ]
  },
  {
   "cell_type": "code",
   "execution_count": 40,
   "metadata": {},
   "outputs": [],
   "source": [
    "## gamma\n",
    "def bsmGamma(spot, strike, vol, rate, tau, div):\n",
    "    d1 = (np.log(spot/strike)+(rate-div+0.5*vol*vol)*tau)/(vol*np.sqrt(tau))\n",
    "    d2 = d1-(vol*np.sqrt(tau))\n",
    "    gamma = (np.exp(-div*tau)/(spot*vol*np.sqrt(tau)))*norm.pdf(d1)\n",
    "    \n",
    "    return gamma"
   ]
  },
  {
   "cell_type": "code",
   "execution_count": 46,
   "metadata": {},
   "outputs": [],
   "source": [
    "## Theta\n",
    "\n",
    "def bsmCallTheta(spot, strike, vol, rate, tau, div):\n",
    "    d1 = (np.log(spot/strike)+(rate-div+0.5*vol*vol)+tau)/(vol*np.sqrt(tau))\n",
    "    d2 = d1-(vol*np.sqrt(tau))\n",
    "    cTheta = (div*spot**(-div*tau))*norm.cdf(d1)-(rate*strike*np.exp(-rate*tau))*norm.cdf(d2-(((vol*strike*np.exp(-rate*tau))/2*np.sqrt(tau)))*norm.pdf(d2))\n",
    "    \n",
    "    return cTheta\n",
    "\n",
    "def bsmPutTheta(spot, strike, vol, rate, tau, div):\n",
    "    d1 = (np.log(spot/strike)+(rate-div+0.5*vol*vol)+tau)/(vol*np.sqrt(tau))\n",
    "    d2 = d1-(vol*np.sqrt(tau))\n",
    "    cTheta = (div*spot**(-div*tau))*norm.cdf(d1)-(rate*strike*np.exp(-rate*tau))*norm.cdf(d2-(((vol*strike*np.exp(-rate*tau))/2*np.sqrt(tau)))*norm.pdf(d2))\n",
    "    pTheta = cTheta+(rate*strike*np.exp(-rate*tau))-(div*spot*np.exp(-div*tau))\n",
    "    \n",
    "    return pTheta"
   ]
  },
  {
   "cell_type": "code",
   "execution_count": 42,
   "metadata": {},
   "outputs": [],
   "source": [
    "def bsmVega(spot, strike, vol, rate, tau, div):\n",
    "    d1 = (np.log(spot/strike)+(rate-div+0.5*vol*vol)*tau)/(vol*np.sqrt(tau))\n",
    "    d2 = d1-(vol*np.sqrt(tau))\n",
    "    vega = spot*np.exp(-div*tau)*np.sqrt(tau)*norm.pdf(d1)\n",
    "    \n",
    "    return vega\n",
    "    "
   ]
  },
  {
   "cell_type": "code",
   "execution_count": 43,
   "metadata": {},
   "outputs": [],
   "source": [
    "def bsmCallRho(spot, strike, vol, rate, tau, div):\n",
    "    d1 = (np.log(spot/strike)+(rate-div+0.5*vol*vol)*tau)/(vol*np.sqrt(tau))\n",
    "    d2 = d1-(vol*np.sqrt(tau))\n",
    "    cRho = tau*strike*np.exp(-rate*tau)*norm.cdf(d2)\n",
    "    \n",
    "    return cRho\n",
    "\n",
    "def bsmPutRho(spot, strike, vol, rate, tau, div):\n",
    "    d1 = (np.log(spot/strike)+(rate-div+0.5*vol*vol)*tau)/(vol*np.sqrt(tau))\n",
    "    d2 = d1-(vol*np.sqrt(tau))\n",
    "    pRho = tau*strike*np.exp(-rate*tau)*norm.cdf(-d2)\n",
    "    \n",
    "    return pRho\n",
    "    "
   ]
  },
  {
   "cell_type": "code",
   "execution_count": 44,
   "metadata": {},
   "outputs": [
    {
     "name": "stderr",
     "output_type": "stream",
     "text": [
      "/anaconda3/lib/python3.6/site-packages/ipykernel_launcher.py:3: RuntimeWarning: divide by zero encountered in log\n",
      "  This is separate from the ipykernel package so we can avoid doing imports until\n",
      "/anaconda3/lib/python3.6/site-packages/ipykernel_launcher.py:5: RuntimeWarning: divide by zero encountered in double_scalars\n",
      "  \"\"\"\n",
      "/anaconda3/lib/python3.6/site-packages/ipykernel_launcher.py:5: RuntimeWarning: invalid value encountered in double_scalars\n",
      "  \"\"\"\n",
      "/anaconda3/lib/python3.6/site-packages/ipykernel_launcher.py:4: RuntimeWarning: divide by zero encountered in log\n",
      "  after removing the cwd from sys.path.\n",
      "/anaconda3/lib/python3.6/site-packages/ipykernel_launcher.py:2: RuntimeWarning: divide by zero encountered in log\n",
      "  \n"
     ]
    },
    {
     "data": {
      "text/plain": [
       "<function matplotlib.pyplot.show(*args, **kw)>"
      ]
     },
     "execution_count": 44,
     "metadata": {},
     "output_type": "execute_result"
    },
    {
     "data": {
      "image/png": "[encoded data removed]",
      "text/plain": [
       "<Figure size 432x288 with 1 Axes>"
      ]
     },
     "metadata": {},
     "output_type": "display_data"
    }
   ],
   "source": [
    "call_deltas= np.empty(81)\n",
    "call_gammas= np.empty(81)\n",
    "call_thetas= np.empty(81)\n",
    "call_vegas= np.empty(81)\n",
    "call_rhos= np.empty(81)\n",
    "\n",
    "for i in range(81):\n",
    "    call_deltas[i] = bsmCallDelta(i, strike, vol, rate, tau, div)\n",
    "    call_gammas[i] = bsmGamma(i, strike, vol, rate, tau, div)\n",
    "    call_thetas[i] = bsmCallTheta(i, strike, vol, rate, tau, div)\n",
    "    call_vegas[i] = bsmVega(i, strike, vol, rate, tau, div)\n",
    "    call_rhos[i] = bsmCallRho(i, strike, vol, rate, tau, div)\n",
    "    \n",
    "plt.plot(call_deltas)\n",
    "plt.show\n",
    "\n",
    "plt.plot(call_gammas)\n",
    "plt.show\n",
    "\n",
    "plt.plot(call_thetas)\n",
    "plt.show\n",
    "\n",
    "plt.plot(call_vegas)\n",
    "plt.show\n",
    "\n",
    "plt.plot(call_rhos)\n",
    "plt.show\n"
   ]
  },
  {
   "cell_type": "code",
   "execution_count": 48,
   "metadata": {},
   "outputs": [
    {
     "name": "stderr",
     "output_type": "stream",
     "text": [
      "/anaconda3/lib/python3.6/site-packages/ipykernel_launcher.py:10: RuntimeWarning: divide by zero encountered in log\n",
      "  # Remove the CWD from sys.path while we load stuff.\n",
      "/anaconda3/lib/python3.6/site-packages/ipykernel_launcher.py:3: RuntimeWarning: divide by zero encountered in log\n",
      "  This is separate from the ipykernel package so we can avoid doing imports until\n",
      "/anaconda3/lib/python3.6/site-packages/ipykernel_launcher.py:5: RuntimeWarning: divide by zero encountered in double_scalars\n",
      "  \"\"\"\n",
      "/anaconda3/lib/python3.6/site-packages/ipykernel_launcher.py:5: RuntimeWarning: invalid value encountered in double_scalars\n",
      "  \"\"\"\n",
      "/anaconda3/lib/python3.6/site-packages/ipykernel_launcher.py:11: RuntimeWarning: divide by zero encountered in log\n",
      "  # This is added back by InteractiveShellApp.init_path()\n",
      "/anaconda3/lib/python3.6/site-packages/ipykernel_launcher.py:2: RuntimeWarning: divide by zero encountered in log\n",
      "  \n",
      "/anaconda3/lib/python3.6/site-packages/ipykernel_launcher.py:9: RuntimeWarning: divide by zero encountered in log\n",
      "  if __name__ == '__main__':\n"
     ]
    },
    {
     "data": {
      "text/plain": [
       "<function matplotlib.pyplot.show(*args, **kw)>"
      ]
     },
     "execution_count": 48,
     "metadata": {},
     "output_type": "execute_result"
    },
    {
     "data": {
      "image/png": "[encoded data removed]",
      "text/plain": [
       "<Figure size 432x288 with 1 Axes>"
      ]
     },
     "metadata": {},
     "output_type": "display_data"
    }
   ],
   "source": [
    "put_deltas= np.empty(81)\n",
    "put_gammas= np.empty(81)\n",
    "put_thetas= np.empty(81)\n",
    "put_vegas= np.empty(81)\n",
    "put_rhos= np.empty(81)\n",
    "\n",
    "for i in range(81):\n",
    "    put_deltas[i] = bsmPutDelta(i, strike, vol, rate, tau, div)\n",
    "    put_gammas[i] = bsmGamma(i, strike, vol, rate, tau, div)\n",
    "    put_thetas[i] = bsmPutTheta(i, strike, vol, rate, tau, div)\n",
    "    put_vegas[i] = bsmVega(i, strike, vol, rate, tau, div)\n",
    "    put_rhos[i] = bsmPutRho(i, strike, vol, rate, tau, div)\n",
    "    \n",
    "plt.plot(put_deltas)\n",
    "plt.show\n",
    "\n",
    "plt.plot(put_gammas)\n",
    "plt.show\n",
    "\n",
    "plt.plot(put_thetas)\n",
    "plt.show\n",
    "\n",
    "plt.plot(put_vegas)\n",
    "plt.show\n",
    "\n",
    "plt.plot(put_rhos)\n",
    "plt.show\n"
   ]
  },
  {
   "cell_type": "code",
   "execution_count": 55,
   "metadata": {},
   "outputs": [],
   "source": [
    "def plotPricerPath(path):\n",
    "    nsteps = path.shape[0]\n",
    "    plt.plot(path, 'b', linewidth = 2.5)\n",
    "    plt.xlim((0, nsteps - 1))\n",
    "    plt.grid(True)\n",
    "    plt.show()"
   ]
  },
  {
   "cell_type": "code",
   "execution_count": 56,
   "metadata": {},
   "outputs": [],
   "source": [
    "# given\n",
    "spot = 41\n",
    "strike = 40\n",
    "vol = .3\n",
    "rate = .08\n",
    "tau = 1\n",
    "div = 0.0"
   ]
  },
  {
   "cell_type": "code",
   "execution_count": 58,
   "metadata": {},
   "outputs": [
    {
     "data": {
      "image/png": "[encoded data removed]",
      "text/plain": [
       "<Figure size 432x288 with 1 Axes>"
      ]
     },
     "metadata": {},
     "output_type": "display_data"
    }
   ],
   "source": [
    "n = 6\n",
    "path = np.zeros(n)\n",
    "z=np.random.normal(size=n)\n",
    "path[0] = spot\n",
    "for t in range(1, n):\n",
    "    path[t] = path[t-1] * np.exp((rate - div - 0.5 * vol * vol) * tau * vol * np.sqrt(tau) * z[t])\n",
    "plotPricerPath(path)"
   ]
  },
  {
   "cell_type": "code",
   "execution_count": null,
   "metadata": {},
   "outputs": [],
   "source": []
  }
 ],
 "metadata": {
  "kernelspec": {
   "display_name": "Python 3",
   "language": "python",
   "name": "python3"
  },
  "language_info": {
   "codemirror_mode": {
    "name": "ipython",
    "version": 3
   },
   "file_extension": ".py",
   "mimetype": "text/x-python",
   "name": "python",
   "nbconvert_exporter": "python",
   "pygments_lexer": "ipython3",
   "version": "3.6.5"
  }
 },
 "nbformat": 4,
 "nbformat_minor": 2
}
